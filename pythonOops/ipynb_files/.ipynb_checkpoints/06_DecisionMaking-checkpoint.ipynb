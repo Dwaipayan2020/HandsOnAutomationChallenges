{
 "cells": [
  {
   "cell_type": "markdown",
   "metadata": {},
   "source": [
    "# Decision Making\n",
    "- Definition\n",
    "- if else statement\n",
    "- nested if else statement"
   ]
  },
  {
   "cell_type": "code",
   "execution_count": null,
   "metadata": {},
   "outputs": [],
   "source": [
    "# if <coondition1> <logical_operator>... :\n",
    "#     <statement1>\n",
    "#     <statement2>\n",
    "#     .\n",
    "#     .\n",
    "# else: # This is optional\n",
    "#     <statement1>\n",
    "#     <statement2>\n",
    "#     .\n",
    "#     .\n"
   ]
  },
  {
   "cell_type": "code",
   "execution_count": null,
   "metadata": {},
   "outputs": [],
   "source": [
    "# if <coondition1> <logical_operator>... :\n",
    "#     <statement1>\n",
    "#     <statement2>\n",
    "#     .\n",
    "#     .\n",
    "# elif <coondition1> <logical_operator>... :\n",
    "#     <statement1>\n",
    "#     <statement2>\n",
    "#     .\n",
    "#     .\n",
    "# elif <coondition1> <logical_operator>... :\n",
    "#     <statement1>\n",
    "#     <statement2>\n",
    "#     .\n",
    "#     .\n",
    "# else: # This is optional\n",
    "#     <statement1>\n",
    "#     <statement2>\n",
    "#     .\n",
    "#     .\n"
   ]
  },
  {
   "cell_type": "code",
   "execution_count": 2,
   "metadata": {},
   "outputs": [
    {
     "name": "stdout",
     "output_type": "stream",
     "text": [
      "I am inside if\n"
     ]
    }
   ],
   "source": [
    "a = 10\n",
    "b = 3\n",
    "if a > b:\n",
    "    print(\"I am inside if\")\n",
    "else:\n",
    "    print(\"I am inside else\")"
   ]
  },
  {
   "cell_type": "code",
   "execution_count": 3,
   "metadata": {},
   "outputs": [
    {
     "name": "stdout",
     "output_type": "stream",
     "text": [
      "I am inside else\n"
     ]
    }
   ],
   "source": [
    "a = 10\n",
    "b = 3\n",
    "if (a + b) >30:\n",
    "    print(\"I am inside if\")\n",
    "else:\n",
    "    print(\"I am inside else\")"
   ]
  },
  {
   "cell_type": "code",
   "execution_count": 5,
   "metadata": {},
   "outputs": [
    {
     "name": "stdout",
     "output_type": "stream",
     "text": [
      "I am inside elif\n"
     ]
    }
   ],
   "source": [
    "a = 10\n",
    "b = 3\n",
    "if (a + b) >30:\n",
    "    print(\"I am inside if\")\n",
    "elif (a + b) == 13:\n",
    "    print(\"I am inside elif\")\n",
    "else:\n",
    "    print(\"I am inside else\")"
   ]
  },
  {
   "cell_type": "markdown",
   "metadata": {},
   "source": [
    "# Nested if"
   ]
  },
  {
   "cell_type": "code",
   "execution_count": 7,
   "metadata": {},
   "outputs": [
    {
     "name": "stdout",
     "output_type": "stream",
     "text": [
      "I am inside nested if\n"
     ]
    }
   ],
   "source": [
    "a = 10\n",
    "b = 3\n",
    "if (a + b) >30:\n",
    "    print(\"I am inside if\")\n",
    "elif (a + b) == 13:\n",
    "    if a**2 == 100:\n",
    "        print(\"I am inside nested if\")\n",
    "    else:\n",
    "        print(\"I am inside nested else\")\n",
    "else:\n",
    "    print(\"I am inside else\")"
   ]
  },
  {
   "cell_type": "code",
   "execution_count": 8,
   "metadata": {},
   "outputs": [
    {
     "name": "stdout",
     "output_type": "stream",
     "text": [
      "I am inside nested else\n"
     ]
    }
   ],
   "source": [
    "a = 10\n",
    "b = 3\n",
    "if (a + b) >30:\n",
    "    print(\"I am inside if\")\n",
    "elif (a + b) == 13:\n",
    "    if a**2 == 1000:\n",
    "        print(\"I am inside nested if\")\n",
    "    else:\n",
    "        print(\"I am inside nested else\")\n",
    "else:\n",
    "    print(\"I am inside else\")"
   ]
  }
 ],
 "metadata": {
  "kernelspec": {
   "display_name": "Python 3 (ipykernel)",
   "language": "python",
   "name": "python3"
  },
  "language_info": {
   "codemirror_mode": {
    "name": "ipython",
    "version": 3
   },
   "file_extension": ".py",
   "mimetype": "text/x-python",
   "name": "python",
   "nbconvert_exporter": "python",
   "pygments_lexer": "ipython3",
   "version": "3.9.13"
  }
 },
 "nbformat": 4,
 "nbformat_minor": 2
}
