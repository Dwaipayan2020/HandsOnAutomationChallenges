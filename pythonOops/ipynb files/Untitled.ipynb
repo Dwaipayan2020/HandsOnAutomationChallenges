{
 "cells": [
  {
   "cell_type": "code",
   "execution_count": 6,
   "id": "fabfd15b",
   "metadata": {},
   "outputs": [],
   "source": [
    "from threading import Thread\n",
    "\n",
    "def disp(a, b):\n",
    "    print('Thread running', a, b)\n",
    "\n",
    "# t = Thread(target=disp, args=(10, 20))\n",
    "# t.start()"
   ]
  },
  {
   "cell_type": "code",
   "execution_count": 8,
   "id": "22d1890f",
   "metadata": {},
   "outputs": [
    {
     "name": "stdout",
     "output_type": "stream",
     "text": [
      "Thread running 10 20\n",
      "Thread running 10 20\n",
      "Thread running 10 20\n",
      "Thread running 10 20\n",
      "Thread running 10 20\n"
     ]
    }
   ],
   "source": [
    "# for i in range(5):\n",
    "#     t = Thread(target=disp, args=(10, 20))\n",
    "#     t.start()"
   ]
  },
  {
   "cell_type": "code",
   "execution_count": 18,
   "id": "6d6f2312",
   "metadata": {},
   "outputs": [
    {
     "name": "stdout",
     "output_type": "stream",
     "text": [
      "Child Thread running\n",
      "Child Thread running\n",
      "Child Thread running\n",
      "Child Thread running\n",
      "Child Thread running\n",
      "Main Thread running\n",
      "Main Thread running\n",
      "Main Thread running\n"
     ]
    }
   ],
   "source": [
    "def display():\n",
    "    for i in range(5):\n",
    "        print('Child Thread running')\n",
    "\n",
    "t = Thread(target=display)\n",
    "t.start()\n",
    "    \n",
    "for i in range(3):\n",
    "    print('Main Thread running')\n"
   ]
  },
  {
   "cell_type": "code",
   "execution_count": null,
   "id": "722beac7",
   "metadata": {},
   "outputs": [],
   "source": []
  },
  {
   "cell_type": "code",
   "execution_count": null,
   "id": "07c9abc0",
   "metadata": {},
   "outputs": [],
   "source": []
  },
  {
   "cell_type": "code",
   "execution_count": null,
   "id": "9c64c4cd",
   "metadata": {},
   "outputs": [],
   "source": []
  },
  {
   "cell_type": "code",
   "execution_count": null,
   "id": "af89456e",
   "metadata": {},
   "outputs": [],
   "source": []
  },
  {
   "cell_type": "code",
   "execution_count": null,
   "id": "1df68de8",
   "metadata": {},
   "outputs": [],
   "source": []
  },
  {
   "cell_type": "code",
   "execution_count": null,
   "id": "45c960c3",
   "metadata": {},
   "outputs": [],
   "source": []
  }
 ],
 "metadata": {
  "kernelspec": {
   "display_name": "Python 3 (ipykernel)",
   "language": "python",
   "name": "python3"
  },
  "language_info": {
   "codemirror_mode": {
    "name": "ipython",
    "version": 3
   },
   "file_extension": ".py",
   "mimetype": "text/x-python",
   "name": "python",
   "nbconvert_exporter": "python",
   "pygments_lexer": "ipython3",
   "version": "3.9.13"
  }
 },
 "nbformat": 4,
 "nbformat_minor": 5
}
